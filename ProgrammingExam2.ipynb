{
  "nbformat": 4,
  "nbformat_minor": 0,
  "metadata": {
    "colab": {
      "provenance": [],
      "authorship_tag": "ABX9TyOdA+RgsYr8W34aB84jGIFx",
      "include_colab_link": true
    },
    "kernelspec": {
      "name": "python3",
      "display_name": "Python 3"
    },
    "language_info": {
      "name": "python"
    }
  },
  "cells": [
    {
      "cell_type": "markdown",
      "metadata": {
        "id": "view-in-github",
        "colab_type": "text"
      },
      "source": [
        "<a href=\"https://colab.research.google.com/github/NabilahYK/PROGRAMMING-EXAM2/blob/main/ProgrammingExam2.ipynb\" target=\"_parent\"><img src=\"https://colab.research.google.com/assets/colab-badge.svg\" alt=\"Open In Colab\"/></a>"
      ]
    },
    {
      "cell_type": "code",
      "execution_count": 4,
      "metadata": {
        "colab": {
          "base_uri": "https://localhost:8080/"
        },
        "id": "7XRnnRVwFp8e",
        "outputId": "ed6d2dc8-fd8b-4853-eb6b-636f81626e98"
      },
      "outputs": [
        {
          "output_type": "stream",
          "name": "stdout",
          "text": [
            "Drive already mounted at /content/drive; to attempt to forcibly remount, call drive.mount(\"/content/drive\", force_remount=True).\n"
          ]
        }
      ],
      "source": [
        "#import drive to link it with colab to allow use of content\n",
        "from google.colab import drive; drive.mount('/content/drive')\n"
      ]
    },
    {
      "cell_type": "code",
      "source": [
        "#importing modules as needed\n",
        "import pandas as pd\n"
      ],
      "metadata": {
        "id": "YJIDP6A8UEEC"
      },
      "execution_count": 2,
      "outputs": []
    },
    {
      "cell_type": "code",
      "source": [
        "#import datafile into variable and check\n",
        "xls = pd.ExcelFile(\"/content/drive/MyDrive/referencetablescoldepressionfinal0612.xlsx\")\n",
        "xls"
      ],
      "metadata": {
        "colab": {
          "base_uri": "https://localhost:8080/"
        },
        "id": "iZVHua8HvMpA",
        "outputId": "c8989b4d-221a-4c40-a593-1f0630a5e654"
      },
      "execution_count": 7,
      "outputs": [
        {
          "output_type": "execute_result",
          "data": {
            "text/plain": [
              "<pandas.io.excel._base.ExcelFile at 0x7ccd61e0d960>"
            ]
          },
          "metadata": {},
          "execution_count": 7
        }
      ]
    }
  ]
}