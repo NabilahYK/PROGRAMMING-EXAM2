{
  "nbformat": 4,
  "nbformat_minor": 0,
  "metadata": {
    "colab": {
      "provenance": [],
      "authorship_tag": "ABX9TyO5utpnzKXFPqZqXvGXG0Q2",
      "include_colab_link": true
    },
    "kernelspec": {
      "name": "python3",
      "display_name": "Python 3"
    },
    "language_info": {
      "name": "python"
    }
  },
  "cells": [
    {
      "cell_type": "markdown",
      "metadata": {
        "id": "view-in-github",
        "colab_type": "text"
      },
      "source": [
        "<a href=\"https://colab.research.google.com/github/NabilahYK/PROGRAMMING-EXAM2/blob/importing-excel-file-possible-path/ProgrammingExam2.ipynb\" target=\"_parent\"><img src=\"https://colab.research.google.com/assets/colab-badge.svg\" alt=\"Open In Colab\"/></a>"
      ]
    },
    {
      "cell_type": "code",
      "execution_count": 1,
      "metadata": {
        "colab": {
          "base_uri": "https://localhost:8080/"
        },
        "id": "7XRnnRVwFp8e",
        "outputId": "8c56ecb3-3492-4027-d24c-f2258f526df1"
      },
      "outputs": [
        {
          "output_type": "stream",
          "name": "stdout",
          "text": [
            "Mounted at /content/drive\n"
          ]
        }
      ],
      "source": [
        "#import drive to link it with colab to allow use of content\n",
        "from google.colab import drive; drive.mount('/content/drive')\n"
      ]
    },
    {
      "cell_type": "code",
      "source": [
        "#importing modules as needed\n",
        "import pandas as pd\n"
      ],
      "metadata": {
        "id": "YJIDP6A8UEEC"
      },
      "execution_count": 2,
      "outputs": []
    },
    {
      "cell_type": "code",
      "source": [
        "#importing excel file into a variable\n",
        "xls = pd.ExcelFile(\"/content/drive/MyDrive/referencetablescoldepressionfinal0612.xlsx\")\n",
        "xls"
      ],
      "metadata": {
        "colab": {
          "base_uri": "https://localhost:8080/"
        },
        "id": "NHYUYOBPW6YE",
        "outputId": "bc497915-77e6-42a7-bd85-0f1bf91ce621"
      },
      "execution_count": 3,
      "outputs": [
        {
          "output_type": "execute_result",
          "data": {
            "text/plain": [
              "<pandas.io.excel._base.ExcelFile at 0x7ccd63139ea0>"
            ]
          },
          "metadata": {},
          "execution_count": 3
        }
      ]
    }
  ]
}